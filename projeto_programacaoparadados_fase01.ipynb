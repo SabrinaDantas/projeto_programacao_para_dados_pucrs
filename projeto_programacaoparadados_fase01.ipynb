{
 "cells": [
  {
   "cell_type": "markdown",
   "id": "7aa9fdd4-4429-40f8-9c89-232044fec247",
   "metadata": {},
   "source": [
    "# Programação para Dados"
   ]
  },
  {
   "cell_type": "markdown",
   "id": "5f501db6-591b-488e-97c0-edb9ea553510",
   "metadata": {},
   "source": [
    "## 1. Análise sobre o banco de dados completo"
   ]
  },
  {
   "cell_type": "markdown",
   "id": "91273fe2-a085-4fc5-a925-ae7b37731722",
   "metadata": {
    "jp-MarkdownHeadingCollapsed": true
   },
   "source": [
    "### Bibliotecas"
   ]
  },
  {
   "cell_type": "code",
   "execution_count": 31,
   "id": "c4a80076-f1a8-4dfa-882a-54b6f51df578",
   "metadata": {},
   "outputs": [],
   "source": [
    "import csv\n",
    "import random "
   ]
  },
  {
   "cell_type": "markdown",
   "id": "149c50a5-9ddd-453f-8c23-353eb02a53cc",
   "metadata": {
    "jp-MarkdownHeadingCollapsed": true
   },
   "source": [
    "### 1.1 Leitura"
   ]
  },
  {
   "cell_type": "markdown",
   "id": "de1d1387-e26b-404a-8f99-8a7e6977c4e8",
   "metadata": {},
   "source": [
    "#### 1.1.2 Desenvolvimento"
   ]
  },
  {
   "cell_type": "code",
   "execution_count": 115,
   "id": "67be18a1-9c4e-49c9-a05f-8bc01e32f7c3",
   "metadata": {},
   "outputs": [],
   "source": [
    "class Reader():\n",
    "    def __init__(self, filename):\n",
    "        self.filename = filename\n",
    "        self.column_mapping = {}\n",
    "\n",
    "    def readColumn(self, columns=None, random_sample=False):\n",
    "        with open(self.filename, 'r', encoding='utf-8') as arquivo:\n",
    "            reader = csv.reader(arquivo, delimiter=',')\n",
    "            headers = next(reader) # ler a primeira linha do arquivo e armazenar seus valores na variável headers (cabeçalho)\n",
    "            data = [] # lista vazia para armazenar os dados \n",
    "           \n",
    "\n",
    "            if columns: \n",
    "                self._map_columns(headers)\n",
    "                selected_columns = [self.column_mapping[col] for col in columns]\n",
    "                \n",
    "            else:\n",
    "                selected_columns = range(len(headers))\n",
    "                \n",
    "            if random_sample: \n",
    "                rows = list(reader)\n",
    "                random_rows = random.sample(rows, 20)\n",
    "                for row in random_rows:\n",
    "                    selected_data = [row[i] for i in selected_columns]\n",
    "                    data.append(selected_data)\n",
    "            else:\n",
    "                for row in reader:  ## selecionar cada linha do arquivo e insere na lista da variável data\n",
    "                    selected_data = [row[i] for i in selected_columns]\n",
    "                    data.append(selected_data) \n",
    "            return data\n",
    "            \n",
    "    def _map_columns(self, headers):  # mapear os cabeçalhos das colunas para seus índices correspondentes\n",
    "        self.column_mapping = {col: idx for idx, col in enumerate(headers)}"
   ]
  },
  {
   "cell_type": "markdown",
   "id": "a7c4e736-5e65-4ecb-8fad-afd0743f54a5",
   "metadata": {},
   "source": [
    "#### 1.1.2 Leitura do CSV"
   ]
  },
  {
   "cell_type": "code",
   "execution_count": 116,
   "id": "aa4e7b80-ca67-4efe-89d6-99e1da5602ef",
   "metadata": {
    "scrolled": true
   },
   "outputs": [],
   "source": [
    "reader = Reader('steam_games.csv')"
   ]
  },
  {
   "cell_type": "markdown",
   "id": "cbbcc9f0-8933-476a-a38d-bf3d18ccdad9",
   "metadata": {
    "jp-MarkdownHeadingCollapsed": true
   },
   "source": [
    "### 1.2 Qual o percentual de jogos gratuitos e pagos na plataforma? "
   ]
  },
  {
   "cell_type": "markdown",
   "id": "bcea79c4-6bc9-4076-9aaa-acc70ecd65c5",
   "metadata": {
    "jp-MarkdownHeadingCollapsed": true
   },
   "source": [
    "#### 1.2.1 Seleção das colunas"
   ]
  },
  {
   "cell_type": "code",
   "execution_count": 117,
   "id": "37a9a0a4-31f0-4f82-9ea2-8e04f0eba50f",
   "metadata": {},
   "outputs": [],
   "source": [
    "df_price = reader.readColumn([\"AppID\", \"Price\"], random_sample=False)"
   ]
  },
  {
   "cell_type": "markdown",
   "id": "120f3987-0f3c-42a7-9228-54e027d756c6",
   "metadata": {
    "jp-MarkdownHeadingCollapsed": true
   },
   "source": [
    "#### 1.2.2 Desenvolvimento"
   ]
  },
  {
   "cell_type": "code",
   "execution_count": 118,
   "id": "26090ae4-bfbd-4da6-af86-d821c9c240ba",
   "metadata": {},
   "outputs": [],
   "source": [
    "class TotalJogos:\n",
    "\n",
    "    def __init__(self, data):\n",
    "        self.data = data\n",
    "        self.totalPagos = 0\n",
    "        self.totalGratuitos = 0  \n",
    "        \n",
    "    def calcularJogos(self):\n",
    "        for item in self.data:\n",
    "            if item[1] == \"0.0\":\n",
    "                self.totalGratuitos += 1\n",
    "            else:\n",
    "                self.totalPagos += 1\n",
    "                \n",
    "        self.totalJogos = self.totalGratuitos + self.totalPagos\n",
    "        return self.totalGratuitos, self.totalPagos, self.totalJogos\n",
    "\n",
    "    def porcentagem(self):\n",
    "        self.porcentagemPagos = self.totalPagos/self.totalJogos * 100\n",
    "        self.porcentagemGratuitos = self.totalGratuitos/self.totalJogos * 100\n",
    "        \n",
    "        return f'Até maio de 2023 a Steam tinha {self.totalJogos} jogos, onde {self.porcentagemGratuitos:.2f}% são jogos gratuitos e {self.porcentagemPagos:.2f}% são jogos pagos.'     \n",
    "\n",
    "    def totalGratuitosPagos(self):\n",
    "        self.calcularJogos()\n",
    "        self.porcentagem()\n",
    "        return self.porcentagem()\n",
    "        "
   ]
  },
  {
   "cell_type": "markdown",
   "id": "f708a969-8c94-4aec-ae4c-5904a649cef9",
   "metadata": {
    "jp-MarkdownHeadingCollapsed": true
   },
   "source": [
    "#### 1.2.3 Resposta"
   ]
  },
  {
   "cell_type": "code",
   "execution_count": 119,
   "id": "4463ccf5-c11e-42b0-a784-f29e337f7c14",
   "metadata": {},
   "outputs": [
    {
     "data": {
      "text/plain": [
       "'Até maio de 2023 a Steam tinha 72934 jogos, onde 17.39% são jogos gratuitos e 82.61% são jogos pagos.'"
      ]
     },
     "execution_count": 119,
     "metadata": {},
     "output_type": "execute_result"
    }
   ],
   "source": [
    "TotalJogos(df_price).totalGratuitosPagos()"
   ]
  },
  {
   "cell_type": "markdown",
   "id": "ba77ce61-e01e-4c39-a68e-5aa5949d35ba",
   "metadata": {
    "jp-MarkdownHeadingCollapsed": true
   },
   "source": [
    "### 1.3 Qual o ano com o maior número de novos jogos? Em caso de empate, retorne uma lista com os anos empatados. "
   ]
  },
  {
   "cell_type": "markdown",
   "id": "409b8ece-8de9-41ef-aacf-63a627dc0c72",
   "metadata": {
    "jp-MarkdownHeadingCollapsed": true
   },
   "source": [
    "#### 1.3.1 Seleção de colunas"
   ]
  },
  {
   "cell_type": "code",
   "execution_count": 100,
   "id": "7bd163af-4f78-4bdf-98f5-099fca000820",
   "metadata": {},
   "outputs": [],
   "source": [
    "df_date = reader.readColumn(['Release date'], random_sample=False)"
   ]
  },
  {
   "cell_type": "markdown",
   "id": "4a5ea598-b99a-4e6c-8621-e7bb79be1322",
   "metadata": {
    "jp-MarkdownHeadingCollapsed": true
   },
   "source": [
    "#### 1.3.2 Desenvolvimento"
   ]
  },
  {
   "cell_type": "code",
   "execution_count": 101,
   "id": "bfa10f18-4099-48dc-8742-953c2b743480",
   "metadata": {},
   "outputs": [],
   "source": [
    "class AnoFrequencia:\n",
    "    def __init__(self, data):\n",
    "        self.data = data\n",
    "        \n",
    "    def listaAnos(self):\n",
    "        self.ano = []  \n",
    "        for item in self.data: \n",
    "            self.ano.append(int(item[0][-4:]))\n",
    "        return self.ano\n",
    "  \n",
    "    def contagem(self):\n",
    "        self.contagem = {}\n",
    "        for item in self.ano:\n",
    "            if item in self.contagem:\n",
    "                self.contagem[item] += 1\n",
    "            else:\n",
    "                self.contagem[item] = 1\n",
    "        return self.contagem\n",
    "\n",
    "    def empate(self):\n",
    "        self.dic_ordenado = sorted(self.contagem.items(), key=lambda item: item[1], reverse=True)\n",
    "        self.dois_primeiros = self.dic_ordenado[:2]\n",
    "        if self.dois_primeiros[0][1] == self.dois_primeiros[1][1]:\n",
    "            return f\"Com {self.dois_primeiros[0][1]} jogos, {self.dois_primeiros[0][0]} e {self.dois_primeiros[1][0]} empataram e foram os anos com o maior número de novos jogos.\"\n",
    "        else:\n",
    "            return f\"Com um total de {self.dois_primeiros[0][1]} jogos, {self.dois_primeiros[0][0]} foi o ano com o maior número de novos jogos.\"\n",
    "\n",
    "    def anoMaiorFrequencia(self):\n",
    "        self.listaAnos()\n",
    "        self.contagem()\n",
    "        self.empate()\n",
    "        return self.empate()"
   ]
  },
  {
   "cell_type": "markdown",
   "id": "cffdc482-c13a-4e3c-8f3a-4e6496c318b7",
   "metadata": {
    "jp-MarkdownHeadingCollapsed": true
   },
   "source": [
    "#### 1.3.3 Resposta"
   ]
  },
  {
   "cell_type": "code",
   "execution_count": 102,
   "id": "a7f14a56-9698-43f7-9f3f-95a16b40ab56",
   "metadata": {},
   "outputs": [
    {
     "data": {
      "text/plain": [
       "'Com um total de 13961 jogos, 2022 foi o ano com o maior número de novos jogos.'"
      ]
     },
     "execution_count": 102,
     "metadata": {},
     "output_type": "execute_result"
    }
   ],
   "source": [
    "AnoFrequencia(df_date).anoMaiorFrequencia()"
   ]
  },
  {
   "cell_type": "markdown",
   "id": "90bcd21b-537a-4327-a028-62376acf92e7",
   "metadata": {
    "jp-MarkdownHeadingCollapsed": true
   },
   "source": [
    "### 1.4 Quais são os 3 jogos com as melhores recomendações e que são compatíveis com o sistema Mac?"
   ]
  },
  {
   "cell_type": "markdown",
   "id": "bb555340-f3f3-4f3d-b9ce-404d0c27fb66",
   "metadata": {
    "jp-MarkdownHeadingCollapsed": true
   },
   "source": [
    "#### 1.4.1 Seleção das colunas"
   ]
  },
  {
   "cell_type": "code",
   "execution_count": 103,
   "id": "82d9b4b0-1450-423a-89ab-0d04634d6dc5",
   "metadata": {},
   "outputs": [],
   "source": [
    "df_recommendations_mac = reader.readColumn(['Recommendations', 'Mac', 'Name'], random_sample=False)"
   ]
  },
  {
   "cell_type": "markdown",
   "id": "39e0fb86-2b67-4bed-a92c-f9563b0227fc",
   "metadata": {
    "jp-MarkdownHeadingCollapsed": true
   },
   "source": [
    "#### 1.4.2 Desenvolvimento"
   ]
  },
  {
   "cell_type": "code",
   "execution_count": 104,
   "id": "98a5f331-1cc0-4eb7-8a95-0f42bf952587",
   "metadata": {},
   "outputs": [],
   "source": [
    "class Recommendations_Mac:\n",
    "    def __init__(self, data):\n",
    "        self.data = data\n",
    "\n",
    "    def recommendations_mac(self):\n",
    "        self.recommendations_mac_int = []\n",
    "        for item in self.data: \n",
    "            if item[1] == 'True':\n",
    "                self.recommendations_mac_int.append([int(item[0]), item[1], item[2]])\n",
    "        self.recommendations_mac_int.sort(reverse=True)\n",
    "        return self.recommendations_mac_int\n",
    "\n",
    "    def first_3(self):\n",
    "        self.first_3 = self.recommendations_mac_int[:3]\n",
    "        return self.first_3\n",
    "\n",
    "    def names(self):\n",
    "        self.names_lista = []\n",
    "        for item in self.first_3:\n",
    "            self.names_lista.append(item[2])\n",
    "        return f'Os jogos {self.names_lista[0]}, {self.names_lista[1]} e {self.names_lista[2]} são as 3 melhores recomendações compatíveis com o sistema Mac.'\n",
    "\n",
    "    def recommendations_mac_3(self):\n",
    "        self.recommendations_mac()\n",
    "        self.first_3()\n",
    "        self.names()\n",
    "        return self.names()\n",
    "        "
   ]
  },
  {
   "cell_type": "markdown",
   "id": "7fe1e275-3b30-43e3-95db-6720a858e7f4",
   "metadata": {},
   "source": [
    "#### 1.4.3 Resposta"
   ]
  },
  {
   "cell_type": "code",
   "execution_count": 105,
   "id": "aa96f4c9-435a-48a3-b842-ece5980b0966",
   "metadata": {},
   "outputs": [
    {
     "data": {
      "text/plain": [
       "\"Os jogos Counter-Strike: Global Offensive, Terraria e Garry's Mod são as 3 melhores recomendações compatíveis com o sistema Mac.\""
      ]
     },
     "execution_count": 105,
     "metadata": {},
     "output_type": "execute_result"
    }
   ],
   "source": [
    "Recommendations_Mac(df_recommendations_mac).recommendations_mac_3()"
   ]
  },
  {
   "cell_type": "markdown",
   "id": "d8861116-c2a3-4572-88dd-43f2d9e9bb1c",
   "metadata": {},
   "source": [
    "## 2. Análise sobre 20 dados aleatórios do banco"
   ]
  },
  {
   "cell_type": "markdown",
   "id": "3d1c3379-9283-4491-bcf0-c1c828b6ec50",
   "metadata": {
    "jp-MarkdownHeadingCollapsed": true
   },
   "source": [
    "### 2.1 Arquivo CSV "
   ]
  },
  {
   "cell_type": "markdown",
   "id": "971e7a27-f424-4e11-99b7-961cb447c79e",
   "metadata": {
    "jp-MarkdownHeadingCollapsed": true
   },
   "source": [
    "#### 2.1.1 Lista com 20 dados aleatórios"
   ]
  },
  {
   "cell_type": "code",
   "execution_count": 121,
   "id": "9b0ca45b-0756-4593-8b2d-404c70edd466",
   "metadata": {},
   "outputs": [],
   "source": [
    "dados_aleatorios = reader.readColumn(random_sample=True) "
   ]
  },
  {
   "cell_type": "markdown",
   "id": "6cfe8363-9032-4b40-acfa-a70c81417a37",
   "metadata": {},
   "source": [
    "#### 2.1.2 Criando arquivo CSV com os 20 dados aleatórios"
   ]
  },
  {
   "cell_type": "code",
   "execution_count": 122,
   "id": "264b9e98-16c9-4c0c-abbe-c895ee5f5b17",
   "metadata": {},
   "outputs": [
    {
     "name": "stdout",
     "output_type": "stream",
     "text": [
      "Dados salvos com sucesso em aleatorios_steam_games.csv\n"
     ]
    }
   ],
   "source": [
    "cabecalho =['AppID', 'Name', 'Release date', 'Estimated owners', 'Peak CCU', 'Required age', 'Price', 'DLC count', 'About the game', 'Supported languages', 'Full audio languages', 'Reviews', 'Header image', 'Website', 'Support url', 'Support email', 'Windows', 'Mac', 'Linux', 'Metacritic score', 'Metacritic url', 'User score', 'Positive', 'Negative', 'Score rank', 'Achievements', 'Recommendations', 'Notes', 'Average playtime forever', 'Average playtime two weeks', 'Median playtime forever', 'Median playtime two weeks', 'Developers', 'Publishers', 'Categories', 'Genres', 'Tags', 'Screenshots', 'Movies']\n",
    "caminho_arquivo = \"aleatorios_steam_games.csv\"\n",
    "with open(caminho_arquivo, 'w', newline='', encoding='utf-8') as arquivo:\n",
    "    writer = csv.writer(arquivo)\n",
    "    writer.writerow(cabecalho)\n",
    "    writer.writerows(dados_aleatorios)\n",
    "\n",
    "print(\"Dados salvos com sucesso em\", caminho_arquivo)"
   ]
  },
  {
   "cell_type": "markdown",
   "id": "ede27372-4c88-404d-a476-e1f1e2112b20",
   "metadata": {
    "jp-MarkdownHeadingCollapsed": true
   },
   "source": [
    "### 2.2 Leitura Arquivo CSV - Aleatório"
   ]
  },
  {
   "cell_type": "code",
   "execution_count": 126,
   "id": "cd5d6a43-3f5f-4252-a0a5-93b9e9b48aa9",
   "metadata": {},
   "outputs": [],
   "source": [
    "reader_aleatorio = Reader('aleatorios_steam_games.csv')"
   ]
  },
  {
   "cell_type": "markdown",
   "id": "ecff6301-6926-4f39-9a5f-21708bb93acb",
   "metadata": {
    "jp-MarkdownHeadingCollapsed": true
   },
   "source": [
    "### 2.3 Qual o percentual de jogos gratuitos e pagos na plataforma? "
   ]
  },
  {
   "cell_type": "markdown",
   "id": "bd42a7eb-3360-4a66-8256-130a1e540134",
   "metadata": {},
   "source": [
    "#### 2.3.1 Seleção das colunas"
   ]
  },
  {
   "cell_type": "code",
   "execution_count": 129,
   "id": "21fad5af-3df2-4336-8811-a447614d77cb",
   "metadata": {},
   "outputs": [],
   "source": [
    "df_price_aleatorio = reader_aleatorio.readColumn([\"AppID\", \"Price\"], random_sample=False)"
   ]
  },
  {
   "cell_type": "markdown",
   "id": "aed4500d-2f0f-46f2-9ba3-f834e3b647f8",
   "metadata": {},
   "source": [
    "#### 2.3.2 Resposta"
   ]
  },
  {
   "cell_type": "code",
   "execution_count": 130,
   "id": "279aded0-5793-4f61-8404-d655693dec60",
   "metadata": {},
   "outputs": [
    {
     "data": {
      "text/plain": [
       "'Até maio de 2023 a Steam tinha 20 jogos, onde 10.00% são jogos gratuitos e 90.00% são jogos pagos.'"
      ]
     },
     "execution_count": 130,
     "metadata": {},
     "output_type": "execute_result"
    }
   ],
   "source": [
    "TotalJogos(df_price_aleatorio).totalGratuitosPagos()"
   ]
  },
  {
   "cell_type": "markdown",
   "id": "1f21f383-90a3-4310-a2e7-009a230cb897",
   "metadata": {
    "jp-MarkdownHeadingCollapsed": true
   },
   "source": [
    "### 2.4 Qual o ano com o maior número de novos jogos? Em caso de empate, retorne uma lista com os anos empatados."
   ]
  },
  {
   "cell_type": "markdown",
   "id": "e16311b4-6921-40bc-acfd-723b8a49890b",
   "metadata": {},
   "source": [
    "#### 2.4.1 Seleção das colunas"
   ]
  },
  {
   "cell_type": "code",
   "execution_count": 131,
   "id": "89163881-b687-4b3a-88c6-ad9663c23e95",
   "metadata": {},
   "outputs": [],
   "source": [
    "df_date_aleatorio = reader_aleatorio.readColumn(['Release date'], random_sample=False)"
   ]
  },
  {
   "cell_type": "markdown",
   "id": "3fa1efed-14d8-4cda-8e8c-e8c6b4b66fc1",
   "metadata": {},
   "source": [
    "#### 2.4.2 Resposta"
   ]
  },
  {
   "cell_type": "code",
   "execution_count": 132,
   "id": "246a366f-fcc1-4bb6-a2e9-30e08977ccd0",
   "metadata": {},
   "outputs": [
    {
     "data": {
      "text/plain": [
       "'Com 4 jogos, 2022 e 2019 empataram e foram os anos com o maior número de novos jogos.'"
      ]
     },
     "execution_count": 132,
     "metadata": {},
     "output_type": "execute_result"
    }
   ],
   "source": [
    "AnoFrequencia(df_date_aleatorio).anoMaiorFrequencia()"
   ]
  },
  {
   "cell_type": "markdown",
   "id": "83741bac-ce13-4474-a5b1-3702722260a0",
   "metadata": {
    "jp-MarkdownHeadingCollapsed": true
   },
   "source": [
    "### 2.5 Quais são os 3 jogos com as melhores recomendações e que são compatíveis com o sistema Mac?"
   ]
  },
  {
   "cell_type": "markdown",
   "id": "4c98dfa1-b246-4712-af34-ac25d4d527d5",
   "metadata": {},
   "source": [
    "#### 2.5.1 Seleção das colunas"
   ]
  },
  {
   "cell_type": "code",
   "execution_count": 133,
   "id": "17c7bf94-efe9-4b03-8e7b-30b03479e57a",
   "metadata": {},
   "outputs": [],
   "source": [
    "df_recommendations_mac_aleatorio = reader_aleatorio .readColumn(['Recommendations', 'Mac', 'Name'], random_sample=False)"
   ]
  },
  {
   "cell_type": "markdown",
   "id": "e159fa91-8a5e-453c-aa6c-3d6892b18f2b",
   "metadata": {},
   "source": [
    "#### 2.5.2 Resposta"
   ]
  },
  {
   "cell_type": "code",
   "execution_count": 134,
   "id": "ec400001-3c81-4c68-8a0b-6c6a303728d0",
   "metadata": {},
   "outputs": [
    {
     "data": {
      "text/plain": [
       "'Os jogos Viki Spotter: School, Captain 13 Beyond the Hero e Anoxemia são as 3 melhores recomendações compatíveis com o sistema Mac.'"
      ]
     },
     "execution_count": 134,
     "metadata": {},
     "output_type": "execute_result"
    }
   ],
   "source": [
    "Recommendations_Mac(df_recommendations_mac_aleatorio).recommendations_mac_3()"
   ]
  }
 ],
 "metadata": {
  "kernelspec": {
   "display_name": "Python 3 (ipykernel)",
   "language": "python",
   "name": "python3"
  },
  "language_info": {
   "codemirror_mode": {
    "name": "ipython",
    "version": 3
   },
   "file_extension": ".py",
   "mimetype": "text/x-python",
   "name": "python",
   "nbconvert_exporter": "python",
   "pygments_lexer": "ipython3",
   "version": "3.11.7"
  }
 },
 "nbformat": 4,
 "nbformat_minor": 5
}
