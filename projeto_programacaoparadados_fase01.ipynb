{
 "cells": [
  {
   "cell_type": "code",
   "execution_count": 183,
   "id": "67be18a1-9c4e-49c9-a05f-8bc01e32f7c3",
   "metadata": {},
   "outputs": [],
   "source": [
    "import csv\n",
    "\n",
    "class Reader():\n",
    "    def __init__(self, filename):\n",
    "        self.filename = filename\n",
    "        self.column_mapping = {}\n",
    "\n",
    "    def readColumn(self, columns=None):\n",
    "        with open(self.filename, 'r', encoding='utf-8') as arquivo:\n",
    "            reader = csv.reader(arquivo, delimiter=',')\n",
    "            headers = next(reader)  # ler a primeira linha do arquivo e armazenar seus valores na variável headers (cabeçalho)\n",
    "            data = [] # lista vazia para armazenar os dados \n",
    "\n",
    "            if columns: \n",
    "                self._map_columns(headers)\n",
    "                selected_columns = [self.column_mapping[col] for col in columns]\n",
    "                \n",
    "            else:\n",
    "                selected_columns = range(len(headers))\n",
    "                \n",
    "\n",
    "            for row in reader:  ## selecionar cada linha do arquivo e insere na lista da variável data\n",
    "                selected_data = [row[i] for i in selected_columns]\n",
    "                data.append(selected_data)\n",
    "                \n",
    "            return data\n",
    "            \n",
    "    def _map_columns(self, headers):  # mapear os cabeçalhos das colunas para seus índices correspondentes\n",
    "        self.column_mapping = {col: idx for idx, col in enumerate(headers)}"
   ]
  },
  {
   "cell_type": "code",
   "execution_count": 189,
   "id": "aa4e7b80-ca67-4efe-89d6-99e1da5602ef",
   "metadata": {
    "scrolled": true
   },
   "outputs": [],
   "source": [
    "reader = Reader('steam_games.csv')\n",
    "df_price = reader.readColumn([\"AppID\", \"Price\"])\n",
    "# print(df_price)"
   ]
  },
  {
   "cell_type": "code",
   "execution_count": 232,
   "id": "26090ae4-bfbd-4da6-af86-d821c9c240ba",
   "metadata": {},
   "outputs": [
    {
     "data": {
      "text/plain": [
       "'Até maio de 2023 a Steam tinha 72934 jogos, onde 17.39% são jogos gratuitos e 82.61% são jogos pagos.'"
      ]
     },
     "execution_count": 232,
     "metadata": {},
     "output_type": "execute_result"
    }
   ],
   "source": [
    "class TotalJogos:\n",
    "\n",
    "    def __init__(self, data):\n",
    "        self.data = data\n",
    "        self.totalPagos = 0\n",
    "        self.totalGratuitos = 0  \n",
    "        \n",
    "    def calcularJogos(self):\n",
    "        for item in self.data:\n",
    "            if item[1] == \"0.0\":\n",
    "                self.totalGratuitos += 1\n",
    "            else:\n",
    "                self.totalPagos += 1\n",
    "                \n",
    "        self.totalJogos = self.totalGratuitos + self.totalPagos\n",
    "        return self.totalGratuitos, self.totalPagos, self.totalJogos\n",
    "\n",
    "    def porcentagem(self):\n",
    "        self.porcentagemPagos = self.totalPagos/self.totalJogos * 100\n",
    "        self.porcentagemGratuitos = self.totalGratuitos/self.totalJogos * 100\n",
    "        \n",
    "        return f'Até maio de 2023 a Steam tinha {self.totalJogos} jogos, onde {self.porcentagemGratuitos:.2f}% são jogos gratuitos e {self.porcentagemPagos:.2f}% são jogos pagos.'\n",
    "\n",
    "                \n",
    "total = TotalJogos(df_price)\n",
    "total.calcularJogos()\n",
    "total.porcentagem()\n"
   ]
  },
  {
   "cell_type": "code",
   "execution_count": null,
   "id": "e79456d0-2f22-474f-a943-421e0a18a459",
   "metadata": {},
   "outputs": [],
   "source": []
  }
 ],
 "metadata": {
  "kernelspec": {
   "display_name": "Python 3 (ipykernel)",
   "language": "python",
   "name": "python3"
  },
  "language_info": {
   "codemirror_mode": {
    "name": "ipython",
    "version": 3
   },
   "file_extension": ".py",
   "mimetype": "text/x-python",
   "name": "python",
   "nbconvert_exporter": "python",
   "pygments_lexer": "ipython3",
   "version": "3.11.7"
  }
 },
 "nbformat": 4,
 "nbformat_minor": 5
}
