{
 "cells": [
  {
   "cell_type": "markdown",
   "id": "7aa9fdd4-4429-40f8-9c89-232044fec247",
   "metadata": {},
   "source": [
    "# Programação para Dados"
   ]
  },
  {
   "cell_type": "markdown",
   "id": "5f501db6-591b-488e-97c0-edb9ea553510",
   "metadata": {},
   "source": [
    "## Fase 1"
   ]
  },
  {
   "cell_type": "markdown",
   "id": "149c50a5-9ddd-453f-8c23-353eb02a53cc",
   "metadata": {},
   "source": [
    "### 1.1 Leitura"
   ]
  },
  {
   "cell_type": "markdown",
   "id": "de1d1387-e26b-404a-8f99-8a7e6977c4e8",
   "metadata": {},
   "source": [
    "#### 1.1.2 Desenvolvimento"
   ]
  },
  {
   "cell_type": "code",
   "execution_count": 205,
   "id": "67be18a1-9c4e-49c9-a05f-8bc01e32f7c3",
   "metadata": {},
   "outputs": [],
   "source": [
    "import csv\n",
    "\n",
    "class Reader():\n",
    "    def __init__(self, filename):\n",
    "        self.filename = filename\n",
    "        self.column_mapping = {}\n",
    "\n",
    "    def readColumn(self, columns=None):\n",
    "        with open(self.filename, 'r', encoding='utf-8') as arquivo:\n",
    "            reader = csv.reader(arquivo, delimiter=',')\n",
    "            headers = next(reader)  # ler a primeira linha do arquivo e armazenar seus valores na variável headers (cabeçalho)\n",
    "            data = [] # lista vazia para armazenar os dados \n",
    "\n",
    "            if columns: \n",
    "                self._map_columns(headers)\n",
    "                selected_columns = [self.column_mapping[col] for col in columns]\n",
    "                \n",
    "            else:\n",
    "                selected_columns = range(len(headers))\n",
    "                \n",
    "\n",
    "            for row in reader:  ## selecionar cada linha do arquivo e insere na lista da variável data\n",
    "                selected_data = [row[i] for i in selected_columns]\n",
    "                data.append(selected_data)\n",
    "                \n",
    "            return data\n",
    "            \n",
    "    def _map_columns(self, headers):  # mapear os cabeçalhos das colunas para seus índices correspondentes\n",
    "        self.column_mapping = {col: idx for idx, col in enumerate(headers)}"
   ]
  },
  {
   "cell_type": "markdown",
   "id": "a7c4e736-5e65-4ecb-8fad-afd0743f54a5",
   "metadata": {},
   "source": [
    "#### 1.1.2 Leitura do CSV"
   ]
  },
  {
   "cell_type": "code",
   "execution_count": 206,
   "id": "aa4e7b80-ca67-4efe-89d6-99e1da5602ef",
   "metadata": {
    "scrolled": true
   },
   "outputs": [],
   "source": [
    "reader = Reader('steam_games.csv')"
   ]
  },
  {
   "cell_type": "markdown",
   "id": "cbbcc9f0-8933-476a-a38d-bf3d18ccdad9",
   "metadata": {},
   "source": [
    "### 1.2 Qual o percentual de jogos gratuitos e pagos na plataforma? "
   ]
  },
  {
   "cell_type": "markdown",
   "id": "bcea79c4-6bc9-4076-9aaa-acc70ecd65c5",
   "metadata": {},
   "source": [
    "#### 1.2.1 Seleção das colunas"
   ]
  },
  {
   "cell_type": "code",
   "execution_count": 207,
   "id": "37a9a0a4-31f0-4f82-9ea2-8e04f0eba50f",
   "metadata": {},
   "outputs": [],
   "source": [
    "df_price = reader.readColumn([\"AppID\", \"Price\"])"
   ]
  },
  {
   "cell_type": "markdown",
   "id": "120f3987-0f3c-42a7-9228-54e027d756c6",
   "metadata": {},
   "source": [
    "#### 1.2.2 Desenvolvimento"
   ]
  },
  {
   "cell_type": "code",
   "execution_count": 208,
   "id": "26090ae4-bfbd-4da6-af86-d821c9c240ba",
   "metadata": {},
   "outputs": [],
   "source": [
    "class TotalJogos:\n",
    "\n",
    "    def __init__(self, data):\n",
    "        self.data = data\n",
    "        self.totalPagos = 0\n",
    "        self.totalGratuitos = 0  \n",
    "        \n",
    "    def calcularJogos(self):\n",
    "        for item in self.data:\n",
    "            if item[1] == \"0.0\":\n",
    "                self.totalGratuitos += 1\n",
    "            else:\n",
    "                self.totalPagos += 1\n",
    "                \n",
    "        self.totalJogos = self.totalGratuitos + self.totalPagos\n",
    "        return self.totalGratuitos, self.totalPagos, self.totalJogos\n",
    "\n",
    "    def porcentagem(self):\n",
    "        self.porcentagemPagos = self.totalPagos/self.totalJogos * 100\n",
    "        self.porcentagemGratuitos = self.totalGratuitos/self.totalJogos * 100\n",
    "        \n",
    "        return f'Até maio de 2023 a Steam tinha {self.totalJogos} jogos, onde {self.porcentagemGratuitos:.2f}% são jogos gratuitos e {self.porcentagemPagos:.2f}% são jogos pagos.'           "
   ]
  },
  {
   "cell_type": "markdown",
   "id": "f708a969-8c94-4aec-ae4c-5904a649cef9",
   "metadata": {},
   "source": [
    "#### 1.2.3 Resposta"
   ]
  },
  {
   "cell_type": "code",
   "execution_count": 209,
   "id": "4463ccf5-c11e-42b0-a784-f29e337f7c14",
   "metadata": {},
   "outputs": [
    {
     "data": {
      "text/plain": [
       "'Até maio de 2023 a Steam tinha 72934 jogos, onde 17.39% são jogos gratuitos e 82.61% são jogos pagos.'"
      ]
     },
     "execution_count": 209,
     "metadata": {},
     "output_type": "execute_result"
    }
   ],
   "source": [
    "total = TotalJogos(df_price)\n",
    "total.calcularJogos()\n",
    "total.porcentagem()"
   ]
  },
  {
   "cell_type": "markdown",
   "id": "ba77ce61-e01e-4c39-a68e-5aa5949d35ba",
   "metadata": {},
   "source": [
    "### 1.3 Qual o ano com o maior número de novos jogos? Em caso de empate, retorne uma lista com os anos empatados. "
   ]
  },
  {
   "cell_type": "markdown",
   "id": "409b8ece-8de9-41ef-aacf-63a627dc0c72",
   "metadata": {},
   "source": [
    "#### 1.3.1 Seleção de colunas"
   ]
  },
  {
   "cell_type": "code",
   "execution_count": 210,
   "id": "7bd163af-4f78-4bdf-98f5-099fca000820",
   "metadata": {},
   "outputs": [],
   "source": [
    "df_date = reader.readColumn(['Release date'])"
   ]
  },
  {
   "cell_type": "markdown",
   "id": "4a5ea598-b99a-4e6c-8621-e7bb79be1322",
   "metadata": {},
   "source": [
    "#### 1.3.2 Desenvolvimento"
   ]
  },
  {
   "cell_type": "code",
   "execution_count": 211,
   "id": "bfa10f18-4099-48dc-8742-953c2b743480",
   "metadata": {},
   "outputs": [],
   "source": [
    "class AnoFrequencia:\n",
    "    def __init__(self, data):\n",
    "        self.data = data\n",
    "\n",
    "    def listaAnos(self):\n",
    "        self.ano = []  \n",
    "        for item in self.data: \n",
    "            self.ano.append(int(item[0][-4:]))\n",
    "        return self.ano\n",
    "  \n",
    "    def contagem(self):\n",
    "        self.contagem = {}\n",
    "        for item in self.ano:\n",
    "            if item in self.contagem:\n",
    "                self.contagem[item] += 1\n",
    "            else:\n",
    "                self.contagem[item] = 1\n",
    "        return self.contagem\n",
    "\n",
    "    def frequencia(self):\n",
    "        self.maiorAno = \"\"\n",
    "        self.maiorContagem = 0\n",
    "        \n",
    "        for ano, contagemAno in self.contagem.items():\n",
    "            if contagemAno > self.maiorContagem:\n",
    "                self.maiorAno = ano\n",
    "                self.maiorContagem = contagemAno\n",
    "        return f'Com um total de {self.maiorContagem} jogos, {self.maiorAno} é o ano com o maior número de jogos novos.'"
   ]
  },
  {
   "cell_type": "markdown",
   "id": "cffdc482-c13a-4e3c-8f3a-4e6496c318b7",
   "metadata": {},
   "source": [
    "#### 1.3.3 Resposta"
   ]
  },
  {
   "cell_type": "code",
   "execution_count": 212,
   "id": "a7f14a56-9698-43f7-9f3f-95a16b40ab56",
   "metadata": {},
   "outputs": [
    {
     "data": {
      "text/plain": [
       "'Com um total de 13961 jogos, 2022 é o ano com o maior número de jogos novos.'"
      ]
     },
     "execution_count": 212,
     "metadata": {},
     "output_type": "execute_result"
    }
   ],
   "source": [
    "ano_freq = AnoFrequencia(df_date)\n",
    "ano_freq.listaAnos()\n",
    "ano_freq.contagem()\n",
    "ano_freq.frequencia()"
   ]
  },
  {
   "cell_type": "markdown",
   "id": "90bcd21b-537a-4327-a028-62376acf92e7",
   "metadata": {},
   "source": [
    "### 1.4 Quais são os 3 jogos com as melhores recomendações e que são compatíveis com o sistema Mac?"
   ]
  },
  {
   "cell_type": "markdown",
   "id": "bb555340-f3f3-4f3d-b9ce-404d0c27fb66",
   "metadata": {},
   "source": [
    "#### 1.4.1 Seleção das colunas"
   ]
  },
  {
   "cell_type": "code",
   "execution_count": 213,
   "id": "82d9b4b0-1450-423a-89ab-0d04634d6dc5",
   "metadata": {},
   "outputs": [],
   "source": [
    "df_recommendations_mac = reader.readColumn(['Recommendations', 'Mac', 'Name'])"
   ]
  },
  {
   "cell_type": "markdown",
   "id": "39e0fb86-2b67-4bed-a92c-f9563b0227fc",
   "metadata": {},
   "source": [
    "#### 1.4.2 Desenvolvimento"
   ]
  },
  {
   "cell_type": "code",
   "execution_count": 214,
   "id": "98a5f331-1cc0-4eb7-8a95-0f42bf952587",
   "metadata": {},
   "outputs": [],
   "source": [
    "class Recommendations_Mac:\n",
    "    def __init__(self, data):\n",
    "        self.data = data\n",
    "\n",
    "    def recommendations_mac(self):\n",
    "        self.recommendations_mac_int = []\n",
    "        for item in self.data: \n",
    "            if item[1] == 'True':\n",
    "                self.recommendations_mac_int.append([int(item[0]), item[1], item[2]])\n",
    "        self.recommendations_mac_int.sort(reverse=True)\n",
    "        return self.recommendations_mac_int\n",
    "\n",
    "    def first_3(self):\n",
    "        self.first_3 = self.recommendations_mac_int[:3]\n",
    "        return self.first_3\n",
    "\n",
    "    def names(self):\n",
    "        self.names = []\n",
    "        for item in self.first_3:\n",
    "            self.names.append(item[2])\n",
    "        return f'Os jogos {self.names[0]}, {self.names[1]} e {self.names[2]} são jogos compatíveis com o sistema Mac com as melhores recomendações, respectivamente.'"
   ]
  },
  {
   "cell_type": "markdown",
   "id": "7fe1e275-3b30-43e3-95db-6720a858e7f4",
   "metadata": {},
   "source": [
    "#### 1.4.3 Resposta"
   ]
  },
  {
   "cell_type": "code",
   "execution_count": 215,
   "id": "aa96f4c9-435a-48a3-b842-ece5980b0966",
   "metadata": {},
   "outputs": [
    {
     "data": {
      "text/plain": [
       "\"Os jogos Counter-Strike: Global Offensive, Terraria e Garry's Mod são jogos compatíveis com o sistema Mac com as melhores recomendações, respectivamente.\""
      ]
     },
     "execution_count": 215,
     "metadata": {},
     "output_type": "execute_result"
    }
   ],
   "source": [
    "recommMac = Recommendations_Mac(df_recommendations_mac)\n",
    "recommMac.recommendations_mac()\n",
    "recommMac.first_3()\n",
    "recommMac.names()"
   ]
  },
  {
   "cell_type": "markdown",
   "id": "d8861116-c2a3-4572-88dd-43f2d9e9bb1c",
   "metadata": {},
   "source": [
    "# TESTE"
   ]
  },
  {
   "cell_type": "code",
   "execution_count": 216,
   "id": "cd84d630-6b50-400b-b027-46acd2bb14c5",
   "metadata": {},
   "outputs": [
    {
     "name": "stdout",
     "output_type": "stream",
     "text": [
      "[(2021, 13961), (2022, 13961)]\n",
      "13961\n",
      "13961\n",
      "Empate\n"
     ]
    }
   ],
   "source": [
    "dicionario = {2008: 166, 2017: 6182, 2021: 13961, 2020: 9474, 2022: 13961, 2014: 1591, 2019: 7616}\n",
    "\n",
    "\n",
    "\n",
    "dic_ordenado = sorted(dicionario.items(), key=lambda item: item[1], reverse=True)\n",
    "\n",
    "\n",
    "dois_primeiros = dic_ordenado[:2]\n",
    "\n",
    "print(dois_primeiros)\n",
    "\n",
    "print(dois_primeiros[0][1])\n",
    "print(dois_primeiros[1][1])\n",
    "\n",
    "if dois_primeiros[0][1] == dois_primeiros[1][1]:\n",
    "    print(\"Empate\")\n",
    "else:\n",
    "    print(\"Sem\")"
   ]
  },
  {
   "cell_type": "code",
   "execution_count": 217,
   "id": "25f667fb-30d0-4e6d-b1c9-9cc96e73e5ac",
   "metadata": {},
   "outputs": [
    {
     "name": "stdout",
     "output_type": "stream",
     "text": [
      "56037\n",
      "22\n",
      "3\n",
      "6799\n",
      "2194\n",
      "1\n",
      "7878\n",
      "72934\n"
     ]
    }
   ],
   "source": [
    "reader = Reader('steam_games.csv')\n",
    "df_sistemas = reader.readColumn(['Windows', 'Mac', 'Linux'])\n",
    "# print(df_sistemas)\n",
    "\n",
    "\n",
    "\n",
    "    \n",
    "\n",
    "\n",
    "windows = 0\n",
    "mac = 0\n",
    "linux = 0\n",
    "windows_mac = 0\n",
    "windows_linux = 0\n",
    "mac_linux = 0\n",
    "todos_sistemas = 0\n",
    "\n",
    "        \n",
    "for item in df_sistemas:\n",
    "    if item == ['True', 'False', 'False']:\n",
    "        windows += 1\n",
    "        \n",
    "    elif item == ['False', 'True', 'False']:\n",
    "        mac += 1\n",
    "        \n",
    "    elif item == ['False', 'False', 'True']:\n",
    "        linux += 1\n",
    "    \n",
    "    elif item == ['True', 'True', 'False']:\n",
    "        windows_mac += 1\n",
    "    elif item == ['True', 'False', 'True']:\n",
    "        windows_linux += 1 \n",
    "        \n",
    "    elif item == ['False', 'True', 'True']:\n",
    "        mac_linux += 1\n",
    "        \n",
    "    else:\n",
    "        todos_sistemas += 1\n",
    "\n",
    "\n",
    "print(windows)\n",
    "print(mac)\n",
    "print(linux)\n",
    "print(windows_mac)\n",
    "print(windows_linux)\n",
    "print(mac_linux)\n",
    "print(todos_sistemas)\n",
    "\n",
    "\n",
    "total = windows + mac + linux + windows_mac + windows_linux + mac_linux + todos_sistemas\n",
    "print(total)"
   ]
  }
 ],
 "metadata": {
  "kernelspec": {
   "display_name": "Python 3 (ipykernel)",
   "language": "python",
   "name": "python3"
  },
  "language_info": {
   "codemirror_mode": {
    "name": "ipython",
    "version": 3
   },
   "file_extension": ".py",
   "mimetype": "text/x-python",
   "name": "python",
   "nbconvert_exporter": "python",
   "pygments_lexer": "ipython3",
   "version": "3.11.7"
  }
 },
 "nbformat": 4,
 "nbformat_minor": 5
}
