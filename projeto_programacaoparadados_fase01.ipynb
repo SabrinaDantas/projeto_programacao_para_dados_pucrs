{
 "cells": [
  {
   "cell_type": "markdown",
   "id": "7aa9fdd4-4429-40f8-9c89-232044fec247",
   "metadata": {},
   "source": [
    "# Programação para Dados"
   ]
  },
  {
   "cell_type": "markdown",
   "id": "5f501db6-591b-488e-97c0-edb9ea553510",
   "metadata": {},
   "source": [
    "## Fase 1"
   ]
  },
  {
   "cell_type": "code",
   "execution_count": 45,
   "id": "67be18a1-9c4e-49c9-a05f-8bc01e32f7c3",
   "metadata": {},
   "outputs": [],
   "source": [
    "import csv\n",
    "\n",
    "class Reader():\n",
    "    def __init__(self, filename):\n",
    "        self.filename = filename\n",
    "        self.column_mapping = {}\n",
    "\n",
    "    def readColumn(self, columns=None):\n",
    "        with open(self.filename, 'r', encoding='utf-8') as arquivo:\n",
    "            reader = csv.reader(arquivo, delimiter=',')\n",
    "            headers = next(reader)  # ler a primeira linha do arquivo e armazenar seus valores na variável headers (cabeçalho)\n",
    "            data = [] # lista vazia para armazenar os dados \n",
    "\n",
    "            if columns: \n",
    "                self._map_columns(headers)\n",
    "                selected_columns = [self.column_mapping[col] for col in columns]\n",
    "                \n",
    "            else:\n",
    "                selected_columns = range(len(headers))\n",
    "                \n",
    "\n",
    "            for row in reader:  ## selecionar cada linha do arquivo e insere na lista da variável data\n",
    "                selected_data = [row[i] for i in selected_columns]\n",
    "                data.append(selected_data)\n",
    "                \n",
    "            return data\n",
    "            \n",
    "    def _map_columns(self, headers):  # mapear os cabeçalhos das colunas para seus índices correspondentes\n",
    "        self.column_mapping = {col: idx for idx, col in enumerate(headers)}"
   ]
  },
  {
   "cell_type": "code",
   "execution_count": 46,
   "id": "aa4e7b80-ca67-4efe-89d6-99e1da5602ef",
   "metadata": {
    "scrolled": true
   },
   "outputs": [],
   "source": [
    "reader = Reader('steam_games.csv')\n",
    "df_price = reader.readColumn([\"AppID\", \"Price\"])\n",
    "#print(df_price)\n"
   ]
  },
  {
   "cell_type": "code",
   "execution_count": 47,
   "id": "26090ae4-bfbd-4da6-af86-d821c9c240ba",
   "metadata": {},
   "outputs": [
    {
     "data": {
      "text/plain": [
       "'Até maio de 2023 a Steam tinha 72934 jogos, onde 17.39% são jogos gratuitos e 82.61% são jogos pagos.'"
      ]
     },
     "execution_count": 47,
     "metadata": {},
     "output_type": "execute_result"
    }
   ],
   "source": [
    "class TotalJogos:\n",
    "\n",
    "    def __init__(self, data):\n",
    "        self.data = data\n",
    "        self.totalPagos = 0\n",
    "        self.totalGratuitos = 0  \n",
    "        \n",
    "    def calcularJogos(self):\n",
    "        for item in self.data:\n",
    "            if item[1] == \"0.0\":\n",
    "                self.totalGratuitos += 1\n",
    "            else:\n",
    "                self.totalPagos += 1\n",
    "                \n",
    "        self.totalJogos = self.totalGratuitos + self.totalPagos\n",
    "        return self.totalGratuitos, self.totalPagos, self.totalJogos\n",
    "\n",
    "    def porcentagem(self):\n",
    "        self.porcentagemPagos = self.totalPagos/self.totalJogos * 100\n",
    "        self.porcentagemGratuitos = self.totalGratuitos/self.totalJogos * 100\n",
    "        \n",
    "        return f'Até maio de 2023 a Steam tinha {self.totalJogos} jogos, onde {self.porcentagemGratuitos:.2f}% são jogos gratuitos e {self.porcentagemPagos:.2f}% são jogos pagos.'\n",
    "\n",
    "                \n",
    "total = TotalJogos(df_price)\n",
    "total.calcularJogos()\n",
    "total.porcentagem()\n"
   ]
  },
  {
   "cell_type": "code",
   "execution_count": 48,
   "id": "7bd163af-4f78-4bdf-98f5-099fca000820",
   "metadata": {},
   "outputs": [],
   "source": [
    "reader = Reader('steam_games.csv')\n",
    "df_date = reader.readColumn(['Release date'])\n",
    "# print(df_date)"
   ]
  },
  {
   "cell_type": "code",
   "execution_count": 49,
   "id": "948245c5-b6f0-4df1-a172-1f4c691d4a34",
   "metadata": {},
   "outputs": [
    {
     "name": "stdout",
     "output_type": "stream",
     "text": [
      "{2008: 166, 2017: 6182, 2021: 12308, 2020: 9474, 2022: 13961, 2014: 1591, 2019: 7616, 2016: 4312, 2018: 7854, 2010: 297, 2015: 2620, 2013: 483, 2011: 281, 2007: 102, 2012: 350, 2006: 69, 2009: 329, 2003: 3, 2005: 7, 2004: 7, 2002: 1, 1999: 3, 1997: 2, 2001: 4, 2000: 2, 1998: 1, 2023: 4908, 2025: 1}\n"
     ]
    }
   ],
   "source": [
    "## faz um for em cada item da lista do df_date, pegando os ultimos 4 numeros e colocando dentro da lista ano e convertendo para int\n",
    "ano = []  \n",
    "for data in df_date: \n",
    "    ano.append(int(data[0][-4:]))\n",
    "\n",
    "\n",
    "## contagem dos anos\n",
    "contagem = {}\n",
    "for item in ano:\n",
    "    if item in contagem:\n",
    "        contagem[item] += 1\n",
    "    else:\n",
    "        contagem[item] = 1\n",
    "print(contagem)\n",
    "\n",
    "\n",
    "\n"
   ]
  },
  {
   "cell_type": "code",
   "execution_count": 50,
   "id": "e79456d0-2f22-474f-a943-421e0a18a459",
   "metadata": {},
   "outputs": [],
   "source": [
    "reader = Reader('steam_games.csv')\n",
    "df_sistemas = reader.readColumn(['Windows', 'Mac', 'Linux'])\n",
    "# print(df_sistemas)"
   ]
  },
  {
   "cell_type": "code",
   "execution_count": 51,
   "id": "80f4ec89-54ed-48ba-880d-40fdd5f2c709",
   "metadata": {},
   "outputs": [
    {
     "name": "stdout",
     "output_type": "stream",
     "text": [
      "72908\n",
      "14700\n",
      "10076\n"
     ]
    }
   ],
   "source": [
    "windows = 0\n",
    "mac = 0\n",
    "linux = 0\n",
    "\n",
    "\n",
    "for item in df_sistemas:\n",
    "    if item[0] == 'True':\n",
    "        windows += 1\n",
    "    if item[1] == 'True':\n",
    "        mac += 1\n",
    "    if item[2] == 'True':\n",
    "        linux += 1\n",
    "\n",
    "print(windows)\n",
    "print(mac)\n",
    "print(linux)"
   ]
  }
 ],
 "metadata": {
  "kernelspec": {
   "display_name": "Python 3 (ipykernel)",
   "language": "python",
   "name": "python3"
  },
  "language_info": {
   "codemirror_mode": {
    "name": "ipython",
    "version": 3
   },
   "file_extension": ".py",
   "mimetype": "text/x-python",
   "name": "python",
   "nbconvert_exporter": "python",
   "pygments_lexer": "ipython3",
   "version": "3.11.7"
  }
 },
 "nbformat": 4,
 "nbformat_minor": 5
}
